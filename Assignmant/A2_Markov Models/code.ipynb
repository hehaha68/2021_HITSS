{
 "cells": [
  {
   "cell_type": "code",
   "execution_count": 1,
   "id": "41f1f92b",
   "metadata": {},
   "outputs": [],
   "source": [
    "import nltk\n",
    "import random\n",
    "import re"
   ]
  },
  {
   "cell_type": "code",
   "execution_count": 2,
   "id": "a1642d6b",
   "metadata": {},
   "outputs": [],
   "source": [
    "def word_print(str):\n",
    "    for i in range(100):\n",
    "        print(str[i],end=' ')\n",
    "        if (i+1)%10 == 0:\n",
    "            print('\\n')"
   ]
  },
  {
   "cell_type": "code",
   "execution_count": 3,
   "id": "df441677",
   "metadata": {},
   "outputs": [],
   "source": [
    "alphabet = 'abcdefghijklmnopqrstuvwxyz'"
   ]
  },
  {
   "cell_type": "markdown",
   "id": "c6b638f0",
   "metadata": {},
   "source": [
    "### 2a"
   ]
  },
  {
   "cell_type": "code",
   "execution_count": 4,
   "id": "a87075e5",
   "metadata": {},
   "outputs": [
    {
     "name": "stdout",
     "output_type": "stream",
     "text": [
      "ehsw dbbx nmmw ciyg ofam rgtq uznr qqqr igqd jiya \n",
      "\n",
      "mqkk dafz aufj whvg pjve txqz kyfo hgpy moqj jjrh \n",
      "\n",
      "ckjm yohg qghr pesr bzwr dobb wxuu rifb kviq zfrg \n",
      "\n",
      "xcsn fkua hsqa yerf bpwr jfpj ltiw cibq ncfn jlxx \n",
      "\n",
      "uvfz xjng fffc nbwa wxlw frbu mcqa utdi spck wdnb \n",
      "\n",
      "benh ioqh ptgs bqtv qftb pdwz ruks etct vbja sfol \n",
      "\n",
      "qayj bdqq bftl lqcj nbpj wwjj oubl cldc bzah txgl \n",
      "\n",
      "vdbp xrlb wpvp ppvq tmes cell jbnt nivy ljmf nnnm \n",
      "\n",
      "ykld hkbb aptl uvis vkon bcsu sgbe slsx xqtd kbcl \n",
      "\n",
      "xflt brcz uuwy xwjq wdwb lbmb yhmj picr ojgr krwa \n",
      "\n"
     ]
    }
   ],
   "source": [
    "solution_a=[0]*100\n",
    "\n",
    "for i in range(100):\n",
    "    word = ''.join(random.choices(alphabet,k=4))\n",
    "    solution_a[i] = word\n",
    "\n",
    "word_print(solution_a)"
   ]
  },
  {
   "cell_type": "markdown",
   "id": "7de3910e",
   "metadata": {},
   "source": [
    "### 2b"
   ]
  },
  {
   "cell_type": "code",
   "execution_count": 10,
   "id": "f33df381",
   "metadata": {},
   "outputs": [
    {
     "name": "stdout",
     "output_type": "stream",
     "text": [
      "trhl odtg rhtr fihy ebrd odhh oosa adwo rseh srye \n",
      "\n",
      "oegt aeue ieno ettu idri iile hoay htcu lpnh eoee \n",
      "\n",
      "cwoh tnmh teod mnos last oeer uhio wpfm eias tnam \n",
      "\n",
      "uvco ebae ohit dlic tuse nrif atah sety lhtn ahos \n",
      "\n",
      "nhsg oqfd avol meea dhss timi sllt nrto stow ilbe \n",
      "\n",
      "tnhh ahtn rsht trrh sskh yyon ncet rsat erss asnd \n",
      "\n",
      "bmti enwr wooh alhp tcri ntrs khpa ttse lpre otws \n",
      "\n",
      "nthy ebaa hrel dkdn ntmt nofm iehg seso aatt sici \n",
      "\n",
      "bdes rioa tefe lyhe btow eebf dehe olht wobs cena \n",
      "\n",
      "rtth serc neop zenh uwna feel dblo naes cino khet \n",
      "\n"
     ]
    }
   ],
   "source": [
    "# file = open('spamiam.txt', 'r')\n",
    "file = open('saki_story.txt', 'r')\n",
    "text = file.read().lower()\n",
    "text = re.split(r'[\"\\',-.?!;\\n\\t 1234567890]+',text)\n",
    "\n",
    "temp = ''.join(text)\n",
    "\n",
    "solution_b=[0]*100\n",
    "for i in range(100):\n",
    "    word = ''.join(random.choices(temp,k=4))\n",
    "    solution_b[i] = word\n",
    "    \n",
    "word_print(solution_b)\n"
   ]
  },
  {
   "cell_type": "markdown",
   "id": "5a15cae8",
   "metadata": {},
   "source": [
    "### 2c"
   ]
  },
  {
   "cell_type": "code",
   "execution_count": 807,
   "id": "f7d10935",
   "metadata": {},
   "outputs": [
    {
     "name": "stdout",
     "output_type": "stream",
     "text": [
      "otho erer ulin hero doto eama aith ouno orea couy \n",
      "\n",
      "erke ouli pado othi ayon anyo deme ceam lyot ewdo \n",
      "\n",
      "ldet erey veth oude emam oure othe yoer ithi spam \n",
      "\n",
      "seno eewh pama like unom llde lite spat iket llde \n",
      "\n",
      "alin ndot yoth ilit amam leve ewdo ifik ther meth \n",
      "\n",
      "oull thin myou ulik path erer rero noou ilam noul \n",
      "\n",
      "scke meam noul ethe emin ndll yoth llle like thik \n",
      "\n",
      "noou mywd othe inot then amil whee urer thev douz \n",
      "\n",
      "heer ulde noth rour ulil ulde doth lild heev ouro \n",
      "\n",
      "lifr ikee rewa ntee iken heno mere myra sche oury \n",
      "\n"
     ]
    }
   ],
   "source": [
    "file = open('spamiam.txt', 'r')\n",
    "# file = open('saki_story.txt', 'r')\n",
    "text = file.read().lower()\n",
    "text = re.split(r'[\"\\',-.?!;\\n\\t 1234567890]+',text)\n",
    "\n",
    "# train\n",
    "cfd=nltk.ConditionalFreqDist()\n",
    "for k in range(len(text)):\n",
    "    if len(text[k])-1 < 0:\n",
    "        continue\n",
    "    for i in range(len(text[k])-1):\n",
    "        cfd[text[k][i]][text[k][i+1]] += 1\n",
    "        \n",
    "# test\n",
    "temp = ''.join(text)\n",
    "\n",
    "solution_c=[0]*100\n",
    "\n",
    "for n in range(100):\n",
    "    letter=random.choice(temp)\n",
    "    word=letter\n",
    "    for i in range(3):\n",
    "        arr = []\n",
    "        if len(cfd[letter]) == 0:\n",
    "            letter = random.choice(temp)\n",
    "        else:\n",
    "            for j in cfd[letter]:\n",
    "                for k in range(cfd[letter][j]):\n",
    "                    arr.append(j)\n",
    "            letter = random.choice(arr)\n",
    "        word += letter\n",
    "    solution_c[n]=word\n",
    "\n",
    "word_print(solution_c)"
   ]
  },
  {
   "cell_type": "markdown",
   "id": "9a00c3d7",
   "metadata": {},
   "source": [
    "### 2d"
   ]
  },
  {
   "cell_type": "code",
   "execution_count": 633,
   "id": "ced876e3",
   "metadata": {
    "scrolled": true
   },
   "outputs": [
    {
     "name": "stdout",
     "output_type": "stream",
     "text": [
      "notr main rome will ldec your llyt aill otes tsee \n",
      "\n",
      "otmm illy letc from amid tooz erea itsl itso wdaw \n",
      "\n",
      "test like amid ingd ould like reen amid ckot bsce \n",
      "\n",
      "notm spam main pami pami like iker spam tmta will \n",
      "\n",
      "that midd erea reth amid real spam ally iken mayo \n",
      "\n",
      "otio youl trea lyiu crud ldtr wher uldt tstr metc \n",
      "\n",
      "onch otmw keym ldni lynt mail rkoo emet ould ddle \n",
      "\n",
      "ther erea eree cene eadh heel anyw youl ylik kead \n",
      "\n",
      "tryl itsi noto hene amid ikei like neck ther wrpa \n",
      "\n",
      "otak iken urni amid omet eall midd otlr geth uldl \n",
      "\n"
     ]
    }
   ],
   "source": [
    "file = open('spamiam.txt', 'r')\n",
    "# file = open('saki_story.txt', 'r')\n",
    "text = file.read().lower()\n",
    "text = re.split(r'[\"\\',-.?!;\\n\\t 1234567890]+',text)\n",
    "\n",
    "# train\n",
    "cfd2=nltk.ConditionalFreqDist()\n",
    "for k in range(len(text)):\n",
    "    if len(text[k])-1 < 1:\n",
    "        continue\n",
    "    for i in range(len(text[k])-2):\n",
    "        cfd2[text[k][i]+text[k][i+1]][text[k][i+2]] += 1\n",
    "        \n",
    "# test\n",
    "temp = ''.join(text)\n",
    "\n",
    "solution_d=[0]*100\n",
    "\n",
    "for n in range(100):\n",
    "    letter=random.choice(temp)\n",
    "#     letter=''.join(random.choices(temp,k=2))\n",
    "    for j in cfd[letter]:\n",
    "        for k in range(cfd[letter][j]):\n",
    "            arr.append(j)\n",
    "    letter += random.choice(arr)\n",
    "    word=letter\n",
    "    for i in range(2):\n",
    "        arr = []\n",
    "        if len(cfd2[letter]) == 0:\n",
    "            letter = letter[-1] + random.choice(temp)\n",
    "        else:\n",
    "            for j in cfd2[letter]:\n",
    "                for k in range(cfd2[letter][j]):\n",
    "                    arr.append(j)\n",
    "            letter = letter[-1] + random.choice(arr)\n",
    "        word += letter[-1]\n",
    "    solution_d[n]=word\n",
    "\n",
    "word_print(solution_d)"
   ]
  },
  {
   "cell_type": "code",
   "execution_count": 815,
   "id": "cc543655",
   "metadata": {},
   "outputs": [
    {
     "name": "stdout",
     "output_type": "stream",
     "text": [
      "    a   b   c   d   e   f   g   h   i   k   l   m   n   o   p   r   s   t   u   v   w   y   z \n",
      "a   0   0   0   6   0   6   3   0  14   3   4  48  20   0   0  13   0  15   1   0   1   7   0 \n",
      "b   0   0   0   0   3   0   0   0   0   0   0   0   0   0   0   0   3   0  13   0   0   0   0 \n",
      "c   1   0   0   0   4   0   0  13   0   2   0   0   0  11   0   1   0   0   0   0   0   0   0 \n",
      "d   0   0   0   1  13   0   0   0   0   0   1   0   0  26   0   0   0   0   0   0   0   0   0 \n",
      "e  12   0   2   0  16   0   0   0   0   0   0   8  13   0   0  29   2   9   0   7   7   2   0 \n",
      "f   6   0   0   0   0   0   0   0   3   0   1   0   0   0   0  18   0   0   0   0   0   0   0 \n",
      "g   3   0   0   0   1   0   0   0   0   0   0   0   0   0   0   0   0   0   0   0   0   0   0 \n",
      "h   6   0   0   0  57   0   0   0   6   0   0   0   0   3   0   0   0   0   1   0   0   0   0 \n",
      "i   0   0   0   5   1   9   0   0   0  44  25   0  23   0   0   0   7  53   0   0   0   0   0 \n",
      "k   0   0   0   0  47   0   0   0   0   0   0   0   1   0   0   0   0   0   0   0   0   0   0 \n",
      "l   5   0   0  48  11   0   0   0  44   0  19   0   0   2   0   0   0   0   0   0   0   4   0 \n",
      "m  13   0   0   0  12   0   0   0   4   0   0   0   0   0   0   0   0   0   0   0   0   5   0 \n",
      "n   0   0   9   9   5   0   3   0   0   3   0   0   0  86   0   0   0   5   7   0   0   8   0 \n",
      "o   0   3   0   0   1   0   0   0   0   0   0  15   7   1   0   9   0  86 106   1   0   0   1 \n",
      "p  29   0   0   0   0   0   0   0   1   0   0   0   0   0   0   0   0   0   0   0   0   4   0 \n",
      "r   4   0   0   0  48   0   0   0   0   5   0   0   0  12   0   0   0   0   2   0   0   1   0 \n",
      "s   5   0   7   0   5   0   0   3   0   0   0   0   0   6  36   0   0   2   0   0   0   0   0 \n",
      "t   4   0   1   0   3   0   0  42   0   0   0   0   0   3   0   2   4   0   0   0   0   0   0 \n",
      "u   0   0   0   9   0   0   0   0   0   0  48   0   9   0   0  17   1   0   0   0   0   5   1 \n",
      "v   0   0   0   0   6   0   0   0   2   0   0   0   0   0   0   0   0   0   0   0   0   0   0 \n",
      "w   5   0   0   7   0   0   0  13  13   0   0   0   0  35   0   0   0   0   0   0   0   0   0 \n",
      "y   0   0   0   0   0   0   0   0   0   0   0   0   0  58   0   4   0   0   0   0   8   0   0 \n",
      "z   0   0   0   0   0   0   0   0   2   0   0   0   0   0   0   0   0   0   0   0   0   0   0 \n"
     ]
    }
   ],
   "source": [
    "a=cfd.tabulate()\n",
    "# cfd2.tabulate()"
   ]
  },
  {
   "cell_type": "code",
   "execution_count": 797,
   "id": "b9784d1e",
   "metadata": {},
   "outputs": [
    {
     "name": "stdout",
     "output_type": "stream",
     "text": [
      "Counter({'o': 262, 'e': 251, 'i': 244, 't': 213, 'n': 167, 'l': 162, 'a': 157, 'u': 131, 'd': 115, 'r': 104, 'm': 94, 'y': 94, 'h': 85, 's': 78, 'w': 73, 'k': 58, 'p': 41, 'f': 37, 'c': 32, 'b': 19, 'v': 8, 'g': 7, 'z': 2})\n"
     ]
    }
   ],
   "source": [
    "from collections import Counter\n",
    "import math as m\n",
    "stable = Counter(temp) \n",
    "print (stable)  "
   ]
  },
  {
   "cell_type": "code",
   "execution_count": 805,
   "id": "da8fe9d7",
   "metadata": {},
   "outputs": [],
   "source": [
    "len_1 = len(temp)\n",
    "entropy = 0\n",
    "for key in stable.keys():\n",
    "    len_2 = 0\n",
    "    for letter in cfd[key]:\n",
    "        len_2 += cfd[key][letter]\n",
    "    t1 = 0\n",
    "    for letter in cfd[key]:\n",
    "        t2 = cfd[key][letter]/len_2\n",
    "        t1 += t2 * m.log2(t2)\n",
    "    entropy += -stable[key]/len_1 * t1"
   ]
  },
  {
   "cell_type": "code",
   "execution_count": 801,
   "id": "43bd3da6",
   "metadata": {},
   "outputs": [
    {
     "data": {
      "text/plain": [
       "1.9503424055489358"
      ]
     },
     "execution_count": 801,
     "metadata": {},
     "output_type": "execute_result"
    }
   ],
   "source": [
    "print(entropy)"
   ]
  },
  {
   "cell_type": "code",
   "execution_count": 812,
   "id": "4bd3f0c0",
   "metadata": {},
   "outputs": [],
   "source": [
    "# file = open('spamiam.txt', 'r')\n",
    "file = open('saki_story.txt', 'r')\n",
    "text = file.read().lower()\n",
    "text = re.split(r'[\"\\',-.?!;\\n\\t 1234567890]+',text)\n",
    "\n",
    "# train\n",
    "cfd2=nltk.ConditionalFreqDist()\n",
    "for k in range(len(text)):\n",
    "    if len(text[k])-1 < 1:\n",
    "        continue\n",
    "    for i in range(len(text[k])-2):\n",
    "        cfd2[text[k][i]+text[k][i+1]][text[k][i+1] + text[k][i+2]] += 1\n",
    "        \n",
    "# test\n",
    "temp = ''.join(text)\n",
    "# cfd2.tabulate()"
   ]
  },
  {
   "cell_type": "code",
   "execution_count": 813,
   "id": "0513983a",
   "metadata": {},
   "outputs": [],
   "source": [
    "count={}\n",
    "len_1 = 0\n",
    "for n in range(len(text)):\n",
    "    if len(text[n]) < 2:\n",
    "        continue\n",
    "    else:\n",
    "        for i in range(len(text[n])-1):\n",
    "            key = text[n][i]+text[n][i+1]\n",
    "            if key in count.keys():\n",
    "                count[key] += 1\n",
    "            else:\n",
    "                count[key] = 1\n",
    "        len_1 += 1\n",
    "stable = count\n",
    "\n",
    "entropy = 0\n",
    "for key in stable.keys():\n",
    "    len_2 = 0\n",
    "    for letter in cfd2[key]:\n",
    "        len_2 += cfd2[key][letter]\n",
    "    t1 = 0\n",
    "    for letter in cfd2[key]:\n",
    "        t2 = cfd2[key][letter]/len_2\n",
    "        t1 += t2 * m.log2(t2)\n",
    "    entropy += -stable[key]/len_1 * t1        "
   ]
  },
  {
   "cell_type": "code",
   "execution_count": 811,
   "id": "8825037e",
   "metadata": {},
   "outputs": [
    {
     "data": {
      "text/plain": [
       "0.8900213845878422"
      ]
     },
     "execution_count": 811,
     "metadata": {},
     "output_type": "execute_result"
    }
   ],
   "source": [
    "print(entropy)"
   ]
  }
 ],
 "metadata": {
  "kernelspec": {
   "display_name": "Python 3",
   "language": "python",
   "name": "python3"
  },
  "language_info": {
   "codemirror_mode": {
    "name": "ipython",
    "version": 3
   },
   "file_extension": ".py",
   "mimetype": "text/x-python",
   "name": "python",
   "nbconvert_exporter": "python",
   "pygments_lexer": "ipython3",
   "version": "3.8.10"
  }
 },
 "nbformat": 4,
 "nbformat_minor": 5
}
